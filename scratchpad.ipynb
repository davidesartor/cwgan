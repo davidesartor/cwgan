{
 "cells": [
  {
   "cell_type": "code",
   "execution_count": 5,
   "metadata": {},
   "outputs": [
    {
     "name": "stdout",
     "output_type": "stream",
     "text": [
      "env: CUDA_VISIBLE_DEVICES=0\n"
     ]
    }
   ],
   "source": [
    "%env CUDA_VISIBLE_DEVICES=0"
   ]
  },
  {
   "cell_type": "code",
   "execution_count": 16,
   "metadata": {},
   "outputs": [
    {
     "name": "stdout",
     "output_type": "stream",
     "text": [
      "torch.Size([1, 1, 28, 28]) torch.Size([1])\n",
      "torch.float32 torch.int64\n",
      "tensor(0.) tensor(1.)\n",
      "tensor(9) tensor(9)\n",
      "torch.Size([1, 1, 28, 28]) torch.Size([1])\n",
      "torch.float32 torch.int64\n",
      "tensor(0.) tensor(1.)\n",
      "tensor(7) tensor(7)\n",
      "torch.Size([1, 1, 28, 28]) torch.Size([1])\n",
      "torch.float32 torch.int64\n",
      "tensor(0.) tensor(1.)\n",
      "tensor(9) tensor(9)\n",
      "torch.Size([1, 1, 28, 28]) torch.Size([1])\n",
      "torch.float32 torch.int64\n",
      "tensor(0.) tensor(1.)\n",
      "tensor(8) tensor(8)\n",
      "59900\n"
     ]
    }
   ],
   "source": [
    "from pl_bolts.datamodules import FashionMNISTDataModule, CIFAR10DataModule\n",
    "import wandb\n",
    "# wandb.init(project='test')\n",
    "\n",
    "dm = FashionMNISTDataModule('.', batch_size=1, val_split=1/1000)\n",
    "dm.prepare_data()\n",
    "dm.setup()\n",
    "for i, (a, b) in enumerate(dm.train_dataloader()):\n",
    "    print(a.shape, b.shape)\n",
    "    print(a.dtype, b.dtype) \n",
    "    print(a.min(), a.max())\n",
    "    print(b.min(), b.max())\n",
    "    # wandb.log({f'a_{i}': wandb.Image(a[i]) for i in range(10)})\n",
    "    if i > 2:\n",
    "        break\n",
    "print(len(dm.train_dataloader()))\n",
    "# wandb.finish()"
   ]
  },
  {
   "cell_type": "code",
   "execution_count": 29,
   "metadata": {},
   "outputs": [
    {
     "data": {
      "text/plain": [
       "((1, 28, 28), 10)"
      ]
     },
     "execution_count": 29,
     "metadata": {},
     "output_type": "execute_result"
    }
   ],
   "source": [
    "dm."
   ]
  },
  {
   "cell_type": "code",
   "execution_count": 26,
   "metadata": {},
   "outputs": [
    {
     "data": {
      "text/plain": [
       "234"
      ]
     },
     "execution_count": 26,
     "metadata": {},
     "output_type": "execute_result"
    }
   ],
   "source": [
    "60000//256"
   ]
  },
  {
   "cell_type": "code",
   "execution_count": 7,
   "metadata": {},
   "outputs": [
    {
     "name": "stdout",
     "output_type": "stream",
     "text": [
      "tensor(2.9802e-08) tensor(1.0328)\n",
      "tensor(-1.4901e-08) tensor(1.0328)\n",
      "tensor(3.7253e-09) tensor(1.0328)\n"
     ]
    }
   ],
   "source": [
    "import torch\n",
    "x = torch.randn(8, 3, 4, 4)\n",
    "y = torch.nn.functional.instance_norm(x)\n",
    "\n",
    "for a in y[0]:\n",
    "    print(a.mean(), a.std())"
   ]
  },
  {
   "cell_type": "code",
   "execution_count": 8,
   "metadata": {},
   "outputs": [],
   "source": [
    "from models.vision import Generator, Critic"
   ]
  },
  {
   "cell_type": "code",
   "execution_count": 9,
   "metadata": {},
   "outputs": [
    {
     "name": "stdout",
     "output_type": "stream",
     "text": [
      "torch.Size([1, 1, 28, 28])\n",
      "Critic(\n",
      "  (activation): SiLU()\n",
      "  (expand): ConvTranspose2d(1, 64, kernel_size=(5, 5), stride=(1, 1))\n",
      "  (residual_blocks): ModuleList(\n",
      "    (0-4): 5 x ResidualConvBlock(\n",
      "      (0): SiLU()\n",
      "      (1): Conv2d(64, 64, kernel_size=(3, 3), stride=(1, 1), padding=same)\n",
      "      (2): SiLU()\n",
      "      (3): Conv2d(64, 64, kernel_size=(3, 3), stride=(1, 1), padding=same)\n",
      "    )\n",
      "  )\n",
      "  (inception_modules): ModuleList(\n",
      "    (0-4): 5 x CIN(\n",
      "      (mean): Linear(in_features=10, out_features=64, bias=True)\n",
      "      (std): Linear(in_features=10, out_features=64, bias=True)\n",
      "    )\n",
      "  )\n",
      "  (downsample_modules): ModuleList(\n",
      "    (0-4): 5 x Conv2d(64, 64, kernel_size=(2, 2), stride=(2, 2))\n",
      "  )\n",
      "  (head): MLP(\n",
      "    (0): Linear(in_features=64, out_features=256, bias=True)\n",
      "    (1): SiLU()\n",
      "    (2): Linear(in_features=256, out_features=1, bias=True)\n",
      "  )\n",
      ")\n",
      "torch.Size([1, 1])\n"
     ]
    },
    {
     "data": {
      "image/png": "[encoded data removed]",
      "text/plain": [
       "<Figure size 640x480 with 1 Axes>"
      ]
     },
     "metadata": {},
     "output_type": "display_data"
    }
   ],
   "source": [
    "model = Generator(shape=(1, 28, 28), classes=10)\n",
    "x = model(b)\n",
    "# imshow x\n",
    "import matplotlib.pyplot as plt\n",
    "plt.imshow(x.detach().cpu().numpy()[0, 0])\n",
    "print(x.shape)\n",
    "\n",
    "model = Critic(shape=(1, 28, 28), classes=10)\n",
    "print(model)\n",
    "logit = model(b, x)\n",
    "print(logit.shape)"
   ]
  }
 ],
 "metadata": {
  "kernelspec": {
   "display_name": "Python 3",
   "language": "python",
   "name": "python3"
  },
  "language_info": {
   "codemirror_mode": {
    "name": "ipython",
    "version": 3
   },
   "file_extension": ".py",
   "mimetype": "text/x-python",
   "name": "python",
   "nbconvert_exporter": "python",
   "pygments_lexer": "ipython3",
   "version": "3.12.2"
  }
 },
 "nbformat": 4,
 "nbformat_minor": 2
}
